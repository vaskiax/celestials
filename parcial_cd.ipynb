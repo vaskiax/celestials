{
 "cells": [
  {
   "cell_type": "markdown",
   "metadata": {},
   "source": [
    "## **Pregunta de Discusión: Eficacia de un Nuevo Tratamiento Médico**  \n",
    "\n",
    "### **Contexto del problema:**  \n",
    "- En un ensayo clínico, **200** pacientes fueron tratados con un nuevo fármaco para reducir la presión arterial.  \n",
    "- **91** pacientes lograron una reducción significativa de la presión arterial.  \n",
    "- Se esperaba que el tratamiento tuviera una eficacia del **50%**. Surge la pregunta: ¿Este resultado se debe al azar, o el fármaco es realmente menos efectivo de lo esperado?  \n",
    "\n",
    "### **Hipótesis:**  \n",
    "- **Hipótesis nula (H₀):** El **50%** de los pacientes obtiene una mejora significativa.  \n",
    "- **Hipótesis alternativa (Hₐ):** Menos del **50%** de los pacientes obtiene una mejora significativa.  \n",
    "\n",
    "### **Estadístico de prueba:**  \n",
    "- Número de pacientes, de un total de **200**, que muestran una mejora significativa tras el tratamiento.  \n",
    "\n",
    "### **Valor p:**  \n",
    "- ¿Cuál es el valor p obtenido?  \n",
    "\n",
    "\n",
    "\n",
    "- ¿Qué sucede si cambiamos el número de simulaciones?\n",
    "\n",
    "- ¿Qué sucede si cambiamos el tamano de la muestra, por ejemplo\n",
    "      el doble, 91*2, 200*2?, ¿Qué sucede con el p-value?\n",
    "\n",
    "- ¿qué sucede cuando varían las características de nuestra población?  \n",
    "    por ejemplo si la verdadera poblacion tiene un proporción de  0.45\n",
    "\n",
    "  "
   ]
  },
  {
   "cell_type": "code",
   "execution_count": null,
   "metadata": {},
   "outputs": [],
   "source": []
  },
  {
   "cell_type": "code",
   "execution_count": 3,
   "metadata": {},
   "outputs": [
    {
     "name": "stdout",
     "output_type": "stream",
     "text": [
      "-1.2727922061357855\n"
     ]
    }
   ],
   "source": [
    "n = 200\n",
    "X = 91\n",
    "p = 0.5\n",
    "q = 1 - p\n",
    "mu = n * p\n",
    "sigma = (n * p * q) ** 0.5\n",
    "z = (X - mu) / sigma\n",
    "print(z)"
   ]
  },
  {
   "cell_type": "code",
   "execution_count": 4,
   "metadata": {},
   "outputs": [],
   "source": [
    "def sim():\n",
    "    import random\n",
    "    return sum(random.choices([1, 0], [p, q], k=n))"
   ]
  },
  {
   "cell_type": "code",
   "execution_count": null,
   "metadata": {},
   "outputs": [
    {
     "name": "stdout",
     "output_type": "stream",
     "text": [
      "0.1163\n"
     ]
    }
   ],
   "source": [
    "N = 100000\n",
    "Xs = [sim() for _ in range(N)]\n",
    "p = sum(1 for x in Xs if X >= x) / N"
   ]
  },
  {
   "cell_type": "code",
   "execution_count": 13,
   "metadata": {},
   "outputs": [
    {
     "data": {
      "image/png": "[encoded data removed]",
      "text/plain": [
       "<Figure size 640x480 with 1 Axes>"
      ]
     },
     "metadata": {},
     "output_type": "display_data"
    }
   ],
   "source": [
    "plt.hist(Xs, bins=range(0, n+1), density=True, alpha=0.5,\n",
    "          color='b', edgecolor='black', linewidth=1.2)\n",
    "plt.show()"
   ]
  },
  {
   "cell_type": "code",
   "execution_count": null,
   "metadata": {},
   "outputs": [],
   "source": []
  }
 ],
 "metadata": {
  "kernelspec": {
   "display_name": "celestials",
   "language": "python",
   "name": "python3"
  },
  "language_info": {
   "codemirror_mode": {
    "name": "ipython",
    "version": 3
   },
   "file_extension": ".py",
   "mimetype": "text/x-python",
   "name": "python",
   "nbconvert_exporter": "python",
   "pygments_lexer": "ipython3",
   "version": "3.12.7"
  }
 },
 "nbformat": 4,
 "nbformat_minor": 2
}
