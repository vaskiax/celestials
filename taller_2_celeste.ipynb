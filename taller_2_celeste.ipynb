{
 "cells": [
  {
   "cell_type": "code",
   "execution_count": 1,
   "metadata": {},
   "outputs": [],
   "source": [
    "import numpy as np\n",
    "import matplotlib.pyplot as plt\n",
    "from mpl_toolkits.mplot3d import Axes3D\n",
    "import pandas as pd\n",
    "\n",
    "from motion.gca import GCA\n",
    "from conics.orbitals import Orbitals \n",
    "from query.orbitals import MajorBodyQuery"
   ]
  },
  {
   "cell_type": "markdown",
   "metadata": {},
   "source": [
    "1. Demuestre que el movimiento de un planeta sobre una órbita elíptica con semieje mayor $a$ y excentricidad $e$ (con $e\\ll 1$) es equivalente al que se produce al combinar el movimiento de un punto P sobre un círculo de radio $a$ centrado en el foco, y el del planeta sobre una elipse con semiejes mayor $2ae$ y menor $ae$ con centro en el punto P (ver Figura 2.8 en MD2.6), ambos movimientos con la misma frecuencia angular $n$ de la órbita original. A esta equivalencia se la llama *la aproximación del centro guía* (en lo sucesivo la abreviaremos como ACG)"
   ]
  },
  {
   "cell_type": "code",
   "execution_count": 2,
   "metadata": {},
   "outputs": [
    {
     "data": {
      "text/markdown": [
       "Dado el caso de un problema de dos cuerpos gravitacional, si uno de estos orbita al otro siguiendo una trayectoria aproximadamente circular $(e << 1)$, se puede estudiar su movimiento descomponiendolo en una parte circular y otra eliptica descritas por dos puntos especiales."
      ],
      "text/plain": [
       "<IPython.core.display.Markdown object>"
      ]
     },
     "metadata": {},
     "output_type": "display_data"
    },
    {
     "data": {
      "text/markdown": [
       "Un punto G en movimiento circular uniforme a una distancia (a) del centro, que corresponde con el semiejer mayor del cuerpo en su orbita, y una frecuencia angular media n resultado de la tercera ley de Kepler: $n = \\sqrt{\\frac{\\mu}{a^3}}$"
      ],
      "text/plain": [
       "<IPython.core.display.Markdown object>"
      ]
     },
     "metadata": {},
     "output_type": "display_data"
    },
    {
     "data": {
      "text/markdown": [
       "Ademas, se tiene un punto P orbitandolo con una trayectoria eliptica caracterizada por un semieje mayor y menor de longitud $2ae$ y $ae$ respectivamente, con (e) la excentricidad de la elipse. Este tambien orbita al punto G a la misma frecuencia angular media del mismo. El movimiento del cuerpo P, descrito desde un sistema de referencia centrado en G y a partir del diagrama en la figura 2.8 de MD, puede ser descrito en terminos de la anomalia verdadera y la anomlia media como: $x = r\\cos{(f-M)} - a$ e $y = r\\sin{(f-M)}$"
      ],
      "text/plain": [
       "<IPython.core.display.Markdown object>"
      ]
     },
     "metadata": {},
     "output_type": "display_data"
    },
    {
     "data": {
      "text/markdown": [
       "Teniendo en cuenta la expasion del argumento de la funciones sinusoidales de cada coordenada, mostrado en la ecuacion 2.88 de MD, y el hecho de que por definicion de (e) cualquiera de sus potencias mayores a 1 tiende a cero, las expresiones para x e y se convierten a: $f - M \\approx 2e\\sin{M}$, $x \\approx r\\cos{(2e\\sin{M})} - a$ e $y \\approx r\\sin{(2e\\sin{M})}$"
      ],
      "text/plain": [
       "<IPython.core.display.Markdown object>"
      ]
     },
     "metadata": {},
     "output_type": "display_data"
    },
    {
     "data": {
      "text/markdown": [
       "Estas expresiones pueden ser simplificadas realizando una nueva expansion en series de cosenos y senos para los terminos sinusoidales: $\\cos{(2e\\sin{M})} = 1 - 2e^{2}\\sin{M}^2$ y $\\sin{(2e\\sin{M})} = 2e\\sin{M}$"
      ],
      "text/plain": [
       "<IPython.core.display.Markdown object>"
      ]
     },
     "metadata": {},
     "output_type": "display_data"
    },
    {
     "data": {
      "text/markdown": [
       "Ademas, de la ecuacion 2.20 se tiene que: $r = \\frac{a(1-e^2)}{1 + e\\cos{f}}$ el cual al expandir su denominador en torno a (e). Nuevamnete, siendo este un valor pequeño, se obtiene la expresion $(1-e\\cos{f})$ en el denominador, mientras que en el numerador la potencia cuadratica desaparece por la misma razon, finalizando con la expresion: $r = \\frac{a(1-e^2)}{1 + e\\cos{f}} \\approx a(1-e^2)\\cdot(1-e\\cos{f}) \\approx a(1-e\\cos{f})$"
      ],
      "text/plain": [
       "<IPython.core.display.Markdown object>"
      ]
     },
     "metadata": {},
     "output_type": "display_data"
    },
    {
     "data": {
      "text/markdown": [
       "Y usando nuevamente el resultado de la ecuacion 2.88: $ f - M \\approx 2e\\sin{M}$ , se obtiene entonces que: $\\cos{f} \\approx \\cos{M + 2e\\sin{M}}$"
      ],
      "text/plain": [
       "<IPython.core.display.Markdown object>"
      ]
     },
     "metadata": {},
     "output_type": "display_data"
    },
    {
     "data": {
      "text/markdown": [
       "Donde, dada la magnitud de e, el lado derecho adquiere la forma $\\cos{M + \\delta} \\approx \\cos{M} - \\delta\\sin{M}$, por lo cual: $\\cos{f} \\approx \\cos{M} - \\delta\\sin{M} = \\cos{M} - 2e\\sin{M}\\sin{M} = \\cos{M} - 2e\\sin{M}^2$"
      ],
      "text/plain": [
       "<IPython.core.display.Markdown object>"
      ]
     },
     "metadata": {},
     "output_type": "display_data"
    },
    {
     "data": {
      "text/markdown": [
       "Teniendo el ultimo termino muy pequeño por el cuadrado del seno a la par de la multiplicacion por la excentricidad, la expresion final indica que, arpoximadamente, los cosenos de ambas anomalias es el mismo. $\\cos{f} \\approx \\cos{M}$"
      ],
      "text/plain": [
       "<IPython.core.display.Markdown object>"
      ]
     },
     "metadata": {},
     "output_type": "display_data"
    },
    {
     "data": {
      "text/markdown": [
       "Asi, reemplazando en las expresiones aproximadas de x e y, se obtiene:$x \\approx a(1- e\\cos{M})(1-2e^{2}\\sin{M}^2) - a \\approx - ae\\cos{M}$ e $y \\approx a(1- e\\cos{M})2e\\sin{M} \\approx 2ae\\sin{M}$"
      ],
      "text/plain": [
       "<IPython.core.display.Markdown object>"
      ]
     },
     "metadata": {},
     "output_type": "display_data"
    },
    {
     "data": {
      "text/markdown": [
       "Finalmente, reemplazando en la ecuacion estandar de la elipse, se tiene que: $(\\frac{- ae\\cos{M}}{ae})^2  + (\\frac{2ae\\sin{M}}{2ae})^2 = \\cos{M}^2 + \\sin{M}^2 = 1$, cumpliendo con la identidad trigonometrica"
      ],
      "text/plain": [
       "<IPython.core.display.Markdown object>"
      ]
     },
     "metadata": {},
     "output_type": "display_data"
    }
   ],
   "source": [
    "gca = GCA()\n",
    "gca.proof()"
   ]
  },
  {
   "cell_type": "markdown",
   "metadata": {},
   "source": [
    "2. Escriba una rutina para calcular la posición del planeta usando la ACG (escoga un valor arbitrario de $a$ y $e$ para este propósito). Haga una animación del movimiento del planeta con la ACG y compare la predicción de la posición con aquella que se obtiene resolviendo el problema de los dos cuerpos con la ecuación de Kepler. Estudie la calidad de la ACG al aumentar el valor de la excentricidad."
   ]
  },
  {
   "cell_type": "markdown",
   "metadata": {},
   "source": [
    "El movimiento del planeta esta descrito entonces por:\n",
    "\n",
    "$$\n",
    "\\vec{r} = \\vec{r_G} + \\vec{r_P}\n",
    "$$\n",
    "\n",
    "Dado que se requiere un cuerpo con baja excentricidad, se tomara como ejemplo el planeta venus. Sus parametros a continuacion:"
   ]
  },
  {
   "cell_type": "code",
   "execution_count": 3,
   "metadata": {},
   "outputs": [
    {
     "data": {
      "text/plain": [
       "a    0.723334\n",
       "e    0.006748\n",
       "dtype: float64"
      ]
     },
     "execution_count": 3,
     "metadata": {},
     "output_type": "execute_result"
    }
   ],
   "source": [
    "venus_params = MajorBodyQuery(299, ['a', 'e'])\n",
    "venus_params"
   ]
  },
  {
   "cell_type": "markdown",
   "metadata": {},
   "source": [
    "Se tiene entonces que:\n",
    "\n",
    "$$\n",
    "\\vec{r_G} = a\\cos{(nt)}\\hat{i} + a\\sin{(nt)}\\hat{j}\\\\\n",
    "\\vec{r_P} = ae\\cos{nt}\\hat{i} + 2ae\\sin{nt}\\hat{j}\n",
    "$$ \n",
    "\n",
    "Así, con los datos obtenidos, es posible contruir los vectores de movimiento:"
   ]
  },
  {
   "cell_type": "code",
   "execution_count": 4,
   "metadata": {},
   "outputs": [
    {
     "data": {
      "text/plain": [
       "{'semimajor': np.float64(108210832310.11528),\n",
       " 'semiminor': 0,\n",
       " 'eccentricity': np.float64(0.006747521803017956),\n",
       " 'focus': 0,\n",
       " 'latus_rectum': 0,\n",
       " 'directrix': 0,\n",
       " 'mean_angular_velocity': np.float64(18728868376.284336),\n",
       " 'true_anomaly': 0,\n",
       " 'eccentric_anomaly': 0,\n",
       " 'mean_anomaly': 0}"
      ]
     },
     "execution_count": 4,
     "metadata": {},
     "output_type": "execute_result"
    }
   ],
   "source": [
    "gca.a, gca.e, gca.n = venus_params['a']*gca.AU, venus_params['e'], np.sqrt(gca.mu/ venus_params['a']**3)#*gca.day2sec*gca.rad2deg\n",
    "gca.__params__()"
   ]
  },
  {
   "cell_type": "code",
   "execution_count": 5,
   "metadata": {},
   "outputs": [
    {
     "data": {
      "text/plain": [
       "(array([[ 1.09671142e+11,  0.00000000e+00,  0.00000000e+00],\n",
       "        [ 1.09542034e+11, -5.28455777e+09,  0.00000000e+00],\n",
       "        [ 1.09155015e+11, -1.05566733e+10,  0.00000000e+00],\n",
       "        ...,\n",
       "        [-3.37456002e+10,  1.03655611e+11,  0.00000000e+00],\n",
       "        [-2.86443309e+10,  1.05159545e+11,  0.00000000e+00],\n",
       "        [-2.34772631e+10,  1.06415561e+11,  0.00000000e+00]]),\n",
       " array([[-0.00000000e+00,  2.04034141e+21,  0.00000000e+00],\n",
       "        [ 9.89737868e+19,  2.03793947e+21,  0.00000000e+00],\n",
       "        [ 1.97714544e+20,  2.03073928e+21,  0.00000000e+00],\n",
       "        ...,\n",
       "        [-1.94135230e+21, -6.27809140e+20,  0.00000000e+00],\n",
       "        [-1.96951927e+21, -5.32904220e+20,  0.00000000e+00],\n",
       "        [-1.99304303e+21, -4.36775174e+20,  0.00000000e+00]]))"
      ]
     },
     "execution_count": 5,
     "metadata": {},
     "output_type": "execute_result"
    }
   ],
   "source": [
    "gca.time = np.linspace(0, 2*np.pi, 1000)\n",
    "r_Gs, v_Gs, r_Ps, v_Ps = gca.decompose()\n",
    "r = r_Gs + r_Ps\n",
    "v = v_Gs + v_Ps\n",
    "r, v"
   ]
  },
  {
   "cell_type": "code",
   "execution_count": 7,
   "metadata": {},
   "outputs": [
    {
     "data": {
      "image/png": "[encoded data removed]",
      "text/plain": [
       "<Figure size 800x800 with 1 Axes>"
      ]
     },
     "metadata": {},
     "output_type": "display_data"
    }
   ],
   "source": [
    "from matplotlib.animation import FuncAnimation\n",
    "\n",
    "fig = plt.figure(figsize=(8,8))\n",
    "ax = fig.add_subplot(111, projection='3d')\n",
    "ax.set_xlabel('X')  \n",
    "ax.set_ylabel('Y')\n",
    "ax.set_zlabel('Z')\n",
    "\n",
    "\n",
    "def update(i):\n",
    "    ax.clear()\n",
    "\n",
    "    ax.scatter(r_Gs[:, 0], r_Gs[:, 1], r_Gs[:, 2],\n",
    "                c='black', marker='o', s=.05)\n",
    "    \n",
    "    ax.scatter(r_Gs[i, 0] + r_Ps[i, 0],\n",
    "                r_Gs[i, 1] + r_Ps[i, 1],\n",
    "                  r_Gs[i, 2] + r_Ps[i, 2],\n",
    "                    c='red', marker='o', s=40)\n",
    "    \n",
    "    ax.set(xlim=(-1.5, 1.5), ylim=(-1.5, 1.5), zlim=(-1.5, 1.5))\n",
    "    plt.axis('equal')\n",
    "    plt.axis('off')\n",
    "    \n",
    "    \n",
    "ani = FuncAnimation(fig, update,\n",
    "                     frames=range(0, len(r_Gs)),\n",
    "                       interval=120)\n",
    "\n",
    "ani.save('venus_orbit.gif', fps=60)"
   ]
  },
  {
   "cell_type": "code",
   "execution_count": null,
   "metadata": {},
   "outputs": [],
   "source": []
  },
  {
   "cell_type": "code",
   "execution_count": null,
   "metadata": {},
   "outputs": [],
   "source": []
  }
 ],
 "metadata": {
  "kernelspec": {
   "display_name": "celestials",
   "language": "python",
   "name": "python3"
  },
  "language_info": {
   "codemirror_mode": {
    "name": "ipython",
    "version": 3
   },
   "file_extension": ".py",
   "mimetype": "text/x-python",
   "name": "python",
   "nbconvert_exporter": "python",
   "pygments_lexer": "ipython3",
   "version": "3.12.7"
  }
 },
 "nbformat": 4,
 "nbformat_minor": 2
}
