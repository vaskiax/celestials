{
 "cells": [
  {
   "cell_type": "code",
   "execution_count": 1,
   "metadata": {},
   "outputs": [],
   "source": [
    "from conics.gca import GCA\n",
    "from conics.orbitals import Orbitals"
   ]
  },
  {
   "cell_type": "markdown",
   "metadata": {},
   "source": [
    "Dado el caso de un problema de dos cuerpos gravitacional, si uno de estos orbita al otro siguiendo una trayectoria aproximadamente circular $(e << 1)$, se puede estudiar su movimiento descomponiendolo en una parte circular y otra eliptica descritas por dos puntos especiales.\n",
    "\n",
    "Un punto G en movimiento circular uniforme a una distancia (a) del centro, que corresponde con el semiejer mayor del cuerpo en su orbita, y una frecuencia angular media n resultado de la tercera ley de Kepler:\n",
    "\n",
    "$$\n",
    "n = \\sqrt{\\frac{\\mu}{a^3}}\n",
    "$$\n",
    "\n",
    "\n",
    "Ademas, se tiene un punto P orbitandolo con una trayectoria eliptica caracterizada por un semieje mayor y menor de longitud $2ae$ y $ae$ respectivamente, con (e) la excentricidad de la elipse. Este tambien orbita al punto G a la misma frecuencia angular media del mismo. \n",
    "\n",
    "El movimiento del cuerpo P, descrito desde un sistema de referencia centrado en G y a partir del diagrama en la figura 2.8 de MD, puede ser descrito en terminos de la anomalia verdadera y la anomlia media como:\n",
    "\n",
    "$$\n",
    "x = r\\cos{(f-M)} - a \\\\\n",
    "y = r\\sin{(f-M)}\n",
    "$$\n",
    "\n",
    "Teniendo en cuenta la expasion del argumento de la funciones sinusoidales de cada coordenada, mostrado en la ecuacion 2.88 de MD, y el hecho de que por definicion de (e) cualquiera de sus potencias mayores a 1 tiende a cero, las expresiones para x e y se convierten a:\n",
    "\n",
    "$$\n",
    "f - M \\approx 2e\\sin{M} \\\\\n",
    "x \\approx r\\cos{(2e\\sin{M})} - a \\\\\n",
    "y \\approx r\\sin{(2e\\sin{M})}\n",
    "$$\n",
    "\n",
    "\n",
    "Estas expresiones pueden ser simplificadas realizando una nueva expansion en series de cosenos y senos para los terminos sinusoidales:\n",
    "\n",
    "$$\n",
    "\\cos{(2e\\sin{M})} = 1 - 2e^{2}\\sin{M}^2\n",
    "\\sin{(2e\\sin{M})} = 2e\\sin{M}\n",
    "$$\n",
    "\n",
    "Ademas, de la ecuacion 2.20 se tiene que: $r = \\frac{a(1-e^2)}{1 + e\\cos{f}}$ el cual al expandir su denominador en torno a (e). Nuevamnete, siendo este un valor pequeño, se obtiene la expresion $(1-e\\cos{f})$ en el denominador, mientras que en el numerador la potencia cuadratica desaparece por la misma razon, finalizando con la expresion:\n",
    "\n",
    "\n",
    "$$\n",
    "\n",
    "r = \\frac{a(1-e^2)}{1 + e\\cos{f}} \\approx a(1-e^2)\\cdot(1-e\\cos{f}) \\approx a(1-e\\cos{f})\n",
    "\n",
    "$$\n",
    "\n",
    "\n",
    "Y usando nuevamente el resultado de la ecuacion 2.88: $ f - M \\approx 2e\\sin{M}$ , se obtiene entonces que:\n",
    "\n",
    "$$\n",
    "\n",
    "\\cos{f} \\approx \\cos{M + 2e\\sin{M}}\n",
    "\n",
    "$$\n",
    "\n",
    "Donde, dada la magnitud de e, el lado derecho adquiere la forma $\\cos{M + \\delta} \\approx \\cos{M} - \\delta\\sin{M}$, por lo cual:\n",
    "\n",
    "$$\n",
    "\n",
    "\\cos{f} \\approx \\cos{M} - \\delta\\sin{M} = \\cos{M} - 2e\\sin{M}\\sin{M} = \\cos{M} - 2e\\sin{M}^2\n",
    "\n",
    "$$\n",
    "\n",
    "Teniendo el ultimo termino muy pequeño por el cuadrado del seno a la par de la multiplicacion por la excentricidad, la expresion final indica que, arpoximadamente, los cosenos de ambas anomalias es el mismo.\n",
    "\n",
    "$$\n",
    "\n",
    "\\cos{f} \\approx \\cos{M}\n",
    "\n",
    "$$\n",
    "\n",
    "\n",
    "Asi, reemplazando en las expresiones aproximadas de x e y, se obtiene:\n",
    "\n",
    "$$\n",
    "\n",
    "x \\approx a(1- e\\cos{M})(1-2e^{2}\\sin{M}^2) - a \\approx - ae\\cos{M} \\\\\n",
    "y \\approx a(1- e\\cos{M})2e\\sin{M} \\approx 2ae\\sin{M}\n",
    "\n",
    "$$\n",
    "\n",
    "\n",
    "Finalmente, reemplazando en la ecuacion estandar de la elipse, se tiene que:\n",
    "\n",
    "$$\n",
    "\n",
    "(\\frac{- ae\\cos{M}}{ae})^2  + (\\frac{2ae\\sin{M}}{2ae})^2 = \\cos{M}^2 + \\sin{M}^2 = 1\n",
    " \n",
    "$$\n",
    "\n",
    "Cumpliendo con la identidad"
   ]
  },
  {
   "cell_type": "code",
   "execution_count": 5,
   "metadata": {},
   "outputs": [
    {
     "data": {
      "text/plain": [
       "{'semimajor': 1.0,\n",
       " 'semiminor': 1.0,\n",
       " 'eccentricity': 1.0,\n",
       " 'focus': 1.0,\n",
       " 'latus_rectum': 1.0,\n",
       " 'directrix': 1.0,\n",
       " 'mean_angular_velocity': 1.0,\n",
       " 'true_anomaly': 1.0,\n",
       " 'eccentric_anomaly': 1.0,\n",
       " 'mean_anomaly': 1.0,\n",
       " 'time_period': 1.0}"
      ]
     },
     "execution_count": 5,
     "metadata": {},
     "output_type": "execute_result"
    }
   ],
   "source": [
    "orbitals = Orbitals()\n",
    "orbitals.load(\"params.txt\")\n",
    "gca = GCA(orbitals)\n",
    "gca.__params__()"
   ]
  },
  {
   "cell_type": "code",
   "execution_count": null,
   "metadata": {},
   "outputs": [],
   "source": []
  }
 ],
 "metadata": {
  "kernelspec": {
   "display_name": "celestials",
   "language": "python",
   "name": "python3"
  },
  "language_info": {
   "codemirror_mode": {
    "name": "ipython",
    "version": 3
   },
   "file_extension": ".py",
   "mimetype": "text/x-python",
   "name": "python",
   "nbconvert_exporter": "python",
   "pygments_lexer": "ipython3",
   "version": "3.12.7"
  }
 },
 "nbformat": 4,
 "nbformat_minor": 2
}
