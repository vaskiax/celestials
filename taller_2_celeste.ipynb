{
 "cells": [
  {
   "cell_type": "code",
   "execution_count": 37,
   "metadata": {},
   "outputs": [],
   "source": [
    "import numpy as np\n",
    "import matplotlib.pyplot as plt\n",
    "from mpl_toolkits.mplot3d import Axes3D\n",
    "import pandas as pd\n",
    "\n",
    "from motion.gca import GCA\n",
    "from conics.orbitals import Orbitals \n",
    "from query.orbitals import MajorBodyQuery"
   ]
  },
  {
   "cell_type": "markdown",
   "metadata": {},
   "source": [
    "1. Demuestre que el movimiento de un planeta sobre una órbita elíptica con semieje mayor $a$ y excentricidad $e$ (con $e\\ll 1$) es equivalente al que se produce al combinar el movimiento de un punto P sobre un círculo de radio $a$ centrado en el foco, y el del planeta sobre una elipse con semiejes mayor $2ae$ y menor $ae$ con centro en el punto P (ver Figura 2.8 en MD2.6), ambos movimientos con la misma frecuencia angular $n$ de la órbita original. A esta equivalencia se la llama *la aproximación del centro guía* (en lo sucesivo la abreviaremos como ACG)"
   ]
  },
  {
   "cell_type": "code",
   "execution_count": null,
   "metadata": {},
   "outputs": [],
   "source": [
    "gca = GCA()\n",
    "gca.proof()"
   ]
  },
  {
   "cell_type": "markdown",
   "metadata": {},
   "source": [
    "2. Escriba una rutina para calcular la posición del planeta usando la ACG (escoga un valor arbitrario de $a$ y $e$ para este propósito). Haga una animación del movimiento del planeta con la ACG y compare la predicción de la posición con aquella que se obtiene resolviendo el problema de los dos cuerpos con la ecuación de Kepler. Estudie la calidad de la ACG al aumentar el valor de la excentricidad."
   ]
  },
  {
   "cell_type": "markdown",
   "metadata": {},
   "source": [
    "El movimiento del planeta esta descrito entonces por:\n",
    "\n",
    "$$\n",
    "\\vec{r} = \\vec{r_G} + \\vec{r_P}\n",
    "$$\n",
    "\n",
    "Dado que se requiere un cuerpo con baja excentricidad, se tomara como ejemplo el planeta venus. Sus parametros a continuacion:"
   ]
  },
  {
   "cell_type": "code",
   "execution_count": 3,
   "metadata": {},
   "outputs": [
    {
     "data": {
      "text/plain": [
       "a    0.723334\n",
       "e    0.006748\n",
       "dtype: float64"
      ]
     },
     "execution_count": 3,
     "metadata": {},
     "output_type": "execute_result"
    }
   ],
   "source": [
    "venus_params = MajorBodyQuery(299, ['a', 'e'])\n",
    "venus_params"
   ]
  },
  {
   "cell_type": "markdown",
   "metadata": {},
   "source": [
    "Se tiene entonces que:\n",
    "\n",
    "$$\n",
    "\\vec{r_G} = a\\cos{(nt)}\\hat{i} + a\\sin{(nt)}\\hat{j}\\\\\n",
    "\\vec{r_P} = ae\\cos{nt}\\hat{i} + 2ae\\sin{nt}\\hat{j}\n",
    "$$ \n",
    "\n",
    "Así, con los datos obtenidos, es posible contruir los vectores de movimiento:"
   ]
  },
  {
   "cell_type": "code",
   "execution_count": 4,
   "metadata": {},
   "outputs": [
    {
     "data": {
      "text/plain": [
       "{'semimajor': np.float64(108210833394.47931),\n",
       " 'semiminor': 0,\n",
       " 'eccentricity': np.float64(0.006747531860993332),\n",
       " 'focus': 0,\n",
       " 'latus_rectum': 0,\n",
       " 'directrix': 0,\n",
       " 'mean_angular_velocity': np.float64(18728868094.765697),\n",
       " 'true_anomaly': 0,\n",
       " 'eccentric_anomaly': 0,\n",
       " 'mean_anomaly': 0}"
      ]
     },
     "execution_count": 4,
     "metadata": {},
     "output_type": "execute_result"
    }
   ],
   "source": [
    "gca.a, gca.e, gca.n = venus_params['a']*gca.AU, venus_params['e'], np.sqrt(gca.mu/ venus_params['a']**3)#*gca.day2sec*gca.rad2deg\n",
    "gca.__params__()"
   ]
  },
  {
   "cell_type": "code",
   "execution_count": 5,
   "metadata": {},
   "outputs": [
    {
     "data": {
      "text/plain": [
       "(array([[ 1.09671145e+11,  0.00000000e+00,  0.00000000e+00],\n",
       "        [-2.69561690e+10, -1.05598993e+11,  0.00000000e+00],\n",
       "        [-9.64199837e+10,  5.19105420e+10,  0.00000000e+00],\n",
       "        ...,\n",
       "        [-6.14977325e+10,  9.02017671e+10,  0.00000000e+00],\n",
       "        [ 1.03135930e+11,  3.70443455e+10,  0.00000000e+00],\n",
       "        [ 1.07996113e+10, -1.08411510e+11,  0.00000000e+00]]),\n",
       " array([[-0.00000000e+00,  2.04034142e+21,  0.00000000e+00],\n",
       "        [ 1.97774961e+21, -5.01497344e+20,  0.00000000e+00],\n",
       "        [-9.72225694e+20, -1.79381446e+21,  0.00000000e+00],\n",
       "        ...,\n",
       "        [-1.68937700e+21, -1.14411471e+21,  0.00000000e+00],\n",
       "        [-6.93798660e+20,  1.91875911e+21,  0.00000000e+00],\n",
       "        [ 2.03042486e+21,  2.00917882e+20,  0.00000000e+00]]))"
      ]
     },
     "execution_count": 5,
     "metadata": {},
     "output_type": "execute_result"
    }
   ],
   "source": [
    "gca.time = np.linspace(0, 2*np.pi, 1000)\n",
    "r_Gs, v_Gs, r_Ps, v_Ps = gca.decompose()\n",
    "r = r_Gs + r_Ps\n",
    "v = v_Gs + v_Ps\n",
    "r, v"
   ]
  },
  {
   "cell_type": "code",
   "execution_count": 36,
   "metadata": {},
   "outputs": [
    {
     "data": {
      "image/png": "[encoded data removed]",
      "text/plain": [
       "<Figure size 700x700 with 1 Axes>"
      ]
     },
     "metadata": {},
     "output_type": "display_data"
    }
   ],
   "source": [
    "from matplotlib.animation import FuncAnimation\n",
    "import matplotlib.pyplot as plt\n",
    "import numpy as np\n",
    "\n",
    "# Example data\n",
    "a = 1.0\n",
    "e = 0.1\n",
    "n = 0.5\n",
    "time = np.linspace(0, 10, 100)\n",
    "\n",
    "r_G = lambda a, n, t: np.array([a * np.cos(n * t), a * np.sin(n * t), 0])\n",
    "r_P = lambda a, e, n, t: np.array([2 * a * e * np.cos(n * t), a * e * np.sin(n * t), 0])\n",
    "\n",
    "r_Gs = np.array([r_G(a, n, t) for t in time])\n",
    "r_Ps = np.array([r_P(a, e, n, t) for t in time])\n",
    "\n",
    "fig = plt.figure(figsize=(7,7))\n",
    "ax = fig.add_subplot(111, projection='3d')\n",
    "\n",
    "def update(t):\n",
    "    ax.clear()\n",
    "    ax.scatter3D(r_Gs[:, 0], r_Gs[:, 1],\n",
    "                  r_Gs[:, 2], c='r', marker='o', s=.5)\n",
    "    \n",
    "    ax.scatter3D(r_Ps[t, 0] + r_Gs[t, 0],\n",
    "                  r_Ps[t, 1] + r_Gs[t, 1],\n",
    "                    r_Ps[t, 2] + r_Gs[t, 2],\n",
    "                      c='b', marker='o', s=5)\n",
    "    ax.set_xlim(-2, 2)\n",
    "    ax.set_ylim(-2, 2)\n",
    "    ax.set_axis_off()\n",
    "\n",
    "    return ax\n",
    "\n",
    "ani = FuncAnimation(fig, update, frames=len(time), interval=100)\n",
    "ani.save('test.gif', fps=10)"
   ]
  },
  {
   "cell_type": "code",
   "execution_count": null,
   "metadata": {},
   "outputs": [],
   "source": []
  }
 ],
 "metadata": {
  "kernelspec": {
   "display_name": "celestials",
   "language": "python",
   "name": "python3"
  },
  "language_info": {
   "codemirror_mode": {
    "name": "ipython",
    "version": 3
   },
   "file_extension": ".py",
   "mimetype": "text/x-python",
   "name": "python",
   "nbconvert_exporter": "python",
   "pygments_lexer": "ipython3",
   "version": "3.12.7"
  }
 },
 "nbformat": 4,
 "nbformat_minor": 2
}
